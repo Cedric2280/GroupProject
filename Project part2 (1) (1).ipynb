{
 "cells": [
  {
   "cell_type": "code",
   "execution_count": 2,
   "id": "1bbc303a",
   "metadata": {},
   "outputs": [
    {
     "name": "stdout",
     "output_type": "stream",
     "text": [
      "Collecting selenium\n",
      "  Downloading selenium-4.9.1-py3-none-any.whl (6.6 MB)\n",
      "     ---------------------------------------- 6.6/6.6 MB 18.2 MB/s eta 0:00:00\n",
      "Requirement already satisfied: urllib3[socks]<3,>=1.26 in c:\\users\\roxan\\anaconda3\\lib\\site-packages (from selenium) (1.26.11)\n",
      "Requirement already satisfied: certifi>=2021.10.8 in c:\\users\\roxan\\anaconda3\\lib\\site-packages (from selenium) (2022.9.14)\n",
      "Collecting trio~=0.17\n",
      "  Downloading trio-0.22.0-py3-none-any.whl (384 kB)\n",
      "     ------------------------------------- 384.9/384.9 kB 11.7 MB/s eta 0:00:00\n",
      "Collecting trio-websocket~=0.9\n",
      "  Downloading trio_websocket-0.10.2-py3-none-any.whl (17 kB)\n",
      "Collecting outcome\n",
      "  Downloading outcome-1.2.0-py2.py3-none-any.whl (9.7 kB)\n",
      "Requirement already satisfied: sniffio in c:\\users\\roxan\\anaconda3\\lib\\site-packages (from trio~=0.17->selenium) (1.2.0)\n",
      "Collecting async-generator>=1.9\n",
      "  Downloading async_generator-1.10-py3-none-any.whl (18 kB)\n",
      "Collecting exceptiongroup>=1.0.0rc9\n",
      "  Downloading exceptiongroup-1.1.1-py3-none-any.whl (14 kB)\n",
      "Requirement already satisfied: idna in c:\\users\\roxan\\anaconda3\\lib\\site-packages (from trio~=0.17->selenium) (3.3)\n",
      "Requirement already satisfied: attrs>=19.2.0 in c:\\users\\roxan\\anaconda3\\lib\\site-packages (from trio~=0.17->selenium) (21.4.0)\n",
      "Requirement already satisfied: sortedcontainers in c:\\users\\roxan\\anaconda3\\lib\\site-packages (from trio~=0.17->selenium) (2.4.0)\n",
      "Requirement already satisfied: cffi>=1.14 in c:\\users\\roxan\\anaconda3\\lib\\site-packages (from trio~=0.17->selenium) (1.15.1)\n",
      "Collecting wsproto>=0.14\n",
      "  Downloading wsproto-1.2.0-py3-none-any.whl (24 kB)\n",
      "Requirement already satisfied: PySocks!=1.5.7,<2.0,>=1.5.6 in c:\\users\\roxan\\anaconda3\\lib\\site-packages (from urllib3[socks]<3,>=1.26->selenium) (1.7.1)\n",
      "Requirement already satisfied: pycparser in c:\\users\\roxan\\anaconda3\\lib\\site-packages (from cffi>=1.14->trio~=0.17->selenium) (2.21)\n",
      "Collecting h11<1,>=0.9.0\n",
      "  Downloading h11-0.14.0-py3-none-any.whl (58 kB)\n",
      "     ---------------------------------------- 58.3/58.3 kB ? eta 0:00:00\n",
      "Installing collected packages: outcome, h11, exceptiongroup, async-generator, wsproto, trio, trio-websocket, selenium\n",
      "Successfully installed async-generator-1.10 exceptiongroup-1.1.1 h11-0.14.0 outcome-1.2.0 selenium-4.9.1 trio-0.22.0 trio-websocket-0.10.2 wsproto-1.2.0\n",
      "Note: you may need to restart the kernel to use updated packages.\n"
     ]
    }
   ],
   "source": [
    "pip install selenium"
   ]
  },
  {
   "cell_type": "code",
   "execution_count": 5,
   "id": "bb481c2b",
   "metadata": {},
   "outputs": [],
   "source": [
    "from IPython.display import display\n",
    "import json\n",
    "import pandas as pd\n",
    "pd.options.display.max_columns = None # Display all columns of a dataframe\n",
    "pd.options.display.max_rows = 700\n",
    "from pprint import pprint\n",
    "import time\n",
    "import os\n",
    "from selenium import webdriver\n",
    "import re\n",
    "import requests\n",
    "from bs4 import BeautifulSoup"
   ]
  },
  {
   "cell_type": "code",
   "execution_count": null,
   "id": "5e1c5e44",
   "metadata": {},
   "outputs": [],
   "source": []
  },
  {
   "cell_type": "code",
   "execution_count": 16,
   "id": "a1535818",
   "metadata": {},
   "outputs": [
    {
     "name": "stdout",
     "output_type": "stream",
     "text": [
      "[{'Name': \"L'Atelier d'Alessandro\", 'Rating': '5', 'Type': 'Italien', 'Address': ['Rue Stevin, 54', '                1000 Bruxelles'], 'Average budget': 'Not Available', 'Maximum capacity': 'Not Available'}, {'Name': 'Per Bacco', 'Rating': 'Not available', 'Type': 'Italien', 'Address': [\"Rue de l'Enseignement, 31\", '                1000 Bruxelles'], 'Average budget': '18€', 'Maximum capacity': 'Not Available'}, {'Name': 'Fresh And Tasty', 'Rating': 'Not available', 'Type': 'Grec', 'Address': ['Rue de la Croix de Fer, 20', '                1000 Bruxelles'], 'Average budget': '4€', 'Maximum capacity': 'Not Available'}, {'Name': 'Le Lion Belge', 'Rating': '4.75', 'Type': 'Belge', 'Address': ['Chaussée de Louvain, 1002', '                1140 Evere (Bruxelles)'], 'Average budget': '25€', 'Maximum capacity': 'Not Available'}, {'Name': \"Madou's Folie\", 'Rating': '5', 'Type': 'Belge', 'Address': ['Rue de la Presse, 23', '                1000 Bruxelles'], 'Average budget': '45€', 'Maximum capacity': 'Not Available'}]\n"
     ]
    }
   ],
   "source": [
    "import time\n",
    "import os\n",
    "from selenium import webdriver\n",
    "from selenium.webdriver.chrome.service import Service\n",
    "from bs4 import BeautifulSoup\n",
    "\n",
    "chromedriver_path = 'path/to/chromedriver'\n",
    "# Create a Service object\n",
    "service = Service(executable_path=chromedriver_path)\n",
    "# Create a WebDriver instance\n",
    "driver = webdriver.Chrome(service=service)\n",
    "restaurants_infos = []\n",
    "url = \"https://www.trouvetonresto.be/restaurant/bruxelles\"\n",
    "\n",
    "try:\n",
    "    # Open the URL\n",
    "    driver.get(url)\n",
    "    time.sleep(5)\n",
    "\n",
    "    soup = BeautifulSoup(driver.page_source, 'html.parser')\n",
    "\n",
    "    restaurants = soup.find('div', class_='col-md-8 col-sm-7 list-content').find('div', class_='list-restaurant').find_all('div', class_='col-md-6 list-item')\n",
    "\n",
    "    for restaurant in restaurants:\n",
    "        restaurant_url = restaurant.find('a')['href']\n",
    "        driver.get(restaurant_url)\n",
    "        time.sleep(2)\n",
    "        soup = BeautifulSoup(driver.page_source, 'html.parser')\n",
    "\n",
    "        try:\n",
    "            restaurant_name = soup.find('div', class_='fiche-header-name').find('h1').text.strip()\n",
    "        except:\n",
    "            restaurant_name = \"Not available\"\n",
    "\n",
    "        try:\n",
    "            input_element = soup.find(id=\"input-rating-header\")\n",
    "            rating_value = input_element['value']\n",
    "        except:\n",
    "            rating_value = \"Not available\"\n",
    "        \n",
    "        try:\n",
    "            restaurant_type = soup.find('div', class_='fiche-header-tags').find('strong').text.strip()\n",
    "        except:\n",
    "            restaurant_type = \"Not available\"\n",
    "        \n",
    "        try:\n",
    "            restaurant_address = soup.find('div', class_='sidebar-address sidebar-item').find('address').text.strip().split('\\n')\n",
    "        except:\n",
    "            restaurant_address = \"Not available\"\n",
    "        try:\n",
    "            div_element = soup.find('div', class_='sidebar-budget sidebar-item tooltip-blue-green')\n",
    "            span_element = div_element.find('span', class_='price')\n",
    "            budget_moyen = span_element.text.strip()\n",
    "        except:\n",
    "            budget_moyen = \"Not Available\"           \n",
    "        \n",
    "        try:\n",
    "            capacite_title = soup.find_all('div', class_='moreInfo-title', text=\"Capacité maximum\")\n",
    "            capacite_max = capacite_title.find_all('div', class_='moreinfo-value').text.strip()\n",
    "        except:\n",
    "            capacite_max = \"Not Available\"\n",
    "         \n",
    "            \n",
    "\n",
    "        restaurants_infos.append({\n",
    "            'Name': restaurant_name,\n",
    "            'Rating': rating_value,\n",
    "            'Type' : restaurant_type,\n",
    "            'Address': restaurant_address,\n",
    "            'Average budget': budget_moyen,\n",
    "            'Maximum capacity': capacite_max\n",
    "            # Other restaurant information\n",
    "        })\n",
    "\n",
    "        if len(restaurants_infos) >= 5:\n",
    "            break\n",
    "\n",
    "except Exception as e:\n",
    "    print(f\"Error occurred: {str(e)}\")\n",
    "\n",
    "finally:\n",
    "    driver.quit()\n",
    "\n",
    "print(restaurants_infos)\n"
   ]
  },
  {
   "cell_type": "code",
   "execution_count": null,
   "id": "c94fffc0",
   "metadata": {},
   "outputs": [],
   "source": []
  },
  {
   "cell_type": "code",
   "execution_count": null,
   "id": "51fabaf2",
   "metadata": {},
   "outputs": [],
   "source": [
    "   try:\n",
    "            capacite_max = soup.find('div', class_=\"moreInfo-title\", text=\"Capacité maximum\").find_next_sibling(\"div\").text.strip()\n",
    "        except:\n",
    "            capacite_max = \"Not Available\"\n",
    "\n"
   ]
  }
 ],
 "metadata": {
  "kernelspec": {
   "display_name": "Python 3 (ipykernel)",
   "language": "python",
   "name": "python3"
  },
  "language_info": {
   "codemirror_mode": {
    "name": "ipython",
    "version": 3
   },
   "file_extension": ".py",
   "mimetype": "text/x-python",
   "name": "python",
   "nbconvert_exporter": "python",
   "pygments_lexer": "ipython3",
   "version": "3.9.13"
  }
 },
 "nbformat": 4,
 "nbformat_minor": 5
}
