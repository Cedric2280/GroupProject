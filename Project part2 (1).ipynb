{
 "cells": [
  {
   "cell_type": "code",
   "execution_count": 6,
   "id": "bb481c2b",
   "metadata": {},
   "outputs": [],
   "source": [
    "from IPython.display import display\n",
    "import json\n",
    "import pandas as pd\n",
    "pd.options.display.max_columns = None # Display all columns of a dataframe\n",
    "pd.options.display.max_rows = 700\n",
    "from pprint import pprint\n",
    "import time\n",
    "import os\n",
    "from selenium import webdriver\n",
    "import re\n",
    "import requests\n",
    "from bs4 import BeautifulSoup"
   ]
  },
  {
   "cell_type": "code",
   "execution_count": 34,
   "id": "e2e45b34",
   "metadata": {},
   "outputs": [
    {
     "name": "stderr",
     "output_type": "stream",
     "text": [
      "C:\\Users\\User\\AppData\\Local\\Temp\\ipykernel_15960\\2706482102.py:7: DeprecationWarning: executable_path has been deprecated, please pass in a Service object\n",
      "  driver = webdriver.Chrome(executable_path=os.path.join(path, 'chromedriver'))\n"
     ]
    },
    {
     "name": "stdout",
     "output_type": "stream",
     "text": [
      "[{'Name': \"L'Atelier d'Alessandro\", 'Rating': 'Not available', 'Address': 'Not available', 'Cuisine Origin': 'Not available', 'Payment Methods': 'Not available', 'Facilities': 'Not available', 'Services': 'Not available'}, {'Name': 'Per Bacco', 'Rating': 'Not available', 'Address': 'Not available', 'Cuisine Origin': 'Not available', 'Payment Methods': 'Not available', 'Facilities': 'Not available', 'Services': 'Not available'}, {'Name': 'Fresh And Tasty', 'Rating': 'Not available', 'Address': 'Not available', 'Cuisine Origin': 'Not available', 'Payment Methods': 'Not available', 'Facilities': 'Not available', 'Services': 'Not available'}, {'Name': 'Le Lion Belge', 'Rating': 'Not available', 'Address': 'Not available', 'Cuisine Origin': 'Not available', 'Payment Methods': 'Not available', 'Facilities': 'Not available', 'Services': 'Not available'}, {'Name': \"Madou's Folie\", 'Rating': 'Not available', 'Address': 'Not available', 'Cuisine Origin': 'Not available', 'Payment Methods': 'Not available', 'Facilities': 'Not available', 'Services': 'Not available'}]\n"
     ]
    }
   ],
   "source": [
    "import time\n",
    "import os\n",
    "from selenium import webdriver\n",
    "from bs4 import BeautifulSoup\n",
    "\n",
    "path = \"C:Users/User/Documents/HEC/2022-2023/DM/Project\"\n",
    "driver = webdriver.Chrome(executable_path=os.path.join(path, 'chromedriver'))\n",
    "restaurants_infos = []\n",
    "url = \"https://www.trouvetonresto.be/restaurant/bruxelles\"\n",
    "driver.get(url)\n",
    "time.sleep(5)\n",
    "\n",
    "soup = BeautifulSoup(driver.page_source, 'html.parser')\n",
    "\n",
    "restaurants = soup.find('div', class_='col-md-8 col-sm-7 list-content').find('div', class_='list-restaurant').find_all('div', class_='col-md-6 list-item')\n",
    "\n",
    "for restaurant in restaurants:\n",
    "    restaurant_url = restaurant.find('a')['href']\n",
    "    driver.get(restaurant_url)\n",
    "    time.sleep(2)\n",
    "    soup = BeautifulSoup(driver.page_source, 'html.parser')\n",
    "    \n",
    "    try:\n",
    "        restaurant_name = soup.find('div', class_='fiche-header-name').find('h1').text.strip()\n",
    "    except:\n",
    "        restaurant_name = \"Not available\"\n",
    "    try:\n",
    "        rating_container = soup.find('div', class_='rating-container.rating-sm.rating-animate')\n",
    "        rating_value = float(rating_container.find('input', id='input-rating-header')['value'])\n",
    "    except:\n",
    "        rating_value = \"Not available\"\n",
    "    \n",
    "    try:\n",
    "        restaurant_address = soup.find('div', class_='fiche-contact').find('address').text.strip()\n",
    "    except:\n",
    "        restaurant_address = \"Not available\"\n",
    "    \n",
    "    try:\n",
    "        cuisine_origin = soup.find('div', class_='moreInfo-title', text='Origines de la cuisine').find_next_sibling('div', class_='moreInfo-value').text.strip()\n",
    "    except:\n",
    "        cuisine_origin = \"Not available\"\n",
    "    \n",
    "    try:\n",
    "        payment_methods = soup.find('div', class_='moreInfo-title', text='Moyens de paiement acceptés').find_next_sibling('div', class_='moreInfo-value').text.strip().split('\\n')\n",
    "        payment_methods = [method.strip() for method in payment_methods if method.strip() != '']\n",
    "    except:\n",
    "        payment_methods = \"Not available\"\n",
    "        \n",
    "    try:\n",
    "        facilities = soup.find('div', class_='moreInfo-title', text='Équipements').find_next_sibling('div', class_='moreInfo-value').text.strip().split('\\n')\n",
    "        facilities = [facility.strip() for facility in facilities if facility.strip() != '']\n",
    "    except:\n",
    "        facilities = \"Not available\"\n",
    "    \n",
    "    try:\n",
    "        services = soup.find('div', class_='moreInfo-title', text='Services').find_next_sibling('div', class_='moreInfo-value').text.strip().split('\\n')\n",
    "        services = [service.strip() for service in services if service.strip() != '']\n",
    "    except:\n",
    "        services = \"Not available\"\n",
    "        \n",
    "    restaurants_infos.append({\n",
    "        'Name': restaurant_name,\n",
    "        'Rating': rating_value,\n",
    "        'Address': restaurant_address,\n",
    "        'Cuisine Origin': cuisine_origin,\n",
    "        'Payment Methods': payment_methods,\n",
    "        'Facilities': facilities,\n",
    "        'Services': services\n",
    "    })\n",
    "    \n",
    "\n",
    "    if len(restaurants_infos) >= 5:\n",
    "        break\n",
    "\n",
    "driver.quit()\n",
    "\n",
    "print(restaurants_infos)\n",
    "        "
   ]
  },
  {
   "cell_type": "code",
   "execution_count": null,
   "id": "c94fffc0",
   "metadata": {},
   "outputs": [],
   "source": []
  }
 ],
 "metadata": {
  "kernelspec": {
   "display_name": "Python 3 (ipykernel)",
   "language": "python",
   "name": "python3"
  },
  "language_info": {
   "codemirror_mode": {
    "name": "ipython",
    "version": 3
   },
   "file_extension": ".py",
   "mimetype": "text/x-python",
   "name": "python",
   "nbconvert_exporter": "python",
   "pygments_lexer": "ipython3",
   "version": "3.9.13"
  }
 },
 "nbformat": 4,
 "nbformat_minor": 5
}
