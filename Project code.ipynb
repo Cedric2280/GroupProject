{
 "cells": [
  {
   "cell_type": "markdown",
   "id": "d27af415",
   "metadata": {},
   "source": [
    "## Restaurant ratings prediction"
   ]
  },
  {
   "cell_type": "code",
   "execution_count": 2,
   "id": "9600cb75",
   "metadata": {},
   "outputs": [],
   "source": [
    "from IPython.display import display\n",
    "from sklearn.model_selection import train_test_split\n",
    "import json\n",
    "import pandas as pd\n",
    "pd.options.display.max_columns = None # Display all columns of a dataframe\n",
    "pd.options.display.max_rows = 700\n",
    "from pprint import pprint\n",
    "import re\n",
    "import requests\n",
    "from bs4 import BeautifulSoup\n",
    "from sklearn.feature_extraction.text import CountVectorizer\n",
    "from sklearn.linear_model import LogisticRegression\n",
    "from sklearn.metrics import accuracy_score\n"
   ]
  },
  {
   "cell_type": "code",
   "execution_count": 5,
   "id": "5f651858",
   "metadata": {},
   "outputs": [
    {
     "name": "stdout",
     "output_type": "stream",
     "text": [
      "Empty DataFrame\n",
      "Columns: [Attributes, Rating]\n",
      "Index: []\n"
     ]
    }
   ],
   "source": [
    "import requests\n",
    "from bs4 import BeautifulSoup\n",
    "import pandas as pd\n",
    "\n",
    "# Define the URL of the Yelp search results page\n",
    "url = \"https://fr.yelp.be/search?find_desc=&find_loc=Brussels%2C+R%C3%A9gion+de+Bruxelles-Capitale\"\n",
    "\n",
    "# Send an HTTP GET request to the URL\n",
    "response = requests.get(url)\n",
    "\n",
    "# Parse the HTML content using BeautifulSoup\n",
    "soup = BeautifulSoup(response.content, \"html.parser\")\n",
    "\n",
    "# Find all the restaurant cards on the page\n",
    "restaurant_cards = soup.find_all(\"div\", class_=\"lemon--div__373c0__1mboc container__373c0__3HMKB businessName__373c0__1fTgn\")\n",
    "\n",
    "# Initialize lists to store the extracted data\n",
    "attributes_list = []\n",
    "ratings_list = []\n",
    "\n",
    "# Iterate over each restaurant card\n",
    "for card in restaurant_cards:\n",
    "    # Extract the restaurant attributes\n",
    "    attributes = []\n",
    "    for attribute_element in card.find_all(\"div\", class_=\"lemon--div__373c0__1mboc arrange-unit__373c0__o3tjT arrange-unit-fill__373c0__1bXMl border-color--default__373c0__3-ifU\"):\n",
    "        attributes.append(attribute_element.text.strip())\n",
    "    \n",
    "    # Extract the restaurant rating\n",
    "    rating_element = card.find(\"div\", class_=\"lemon--div__373c0__1mboc i-stars__373c0__1T6rz i-stars--regular-4-half__373c0__3oMI2 border-color--default__373c0__3-ifU overflow--hidden__373c0__2y4YK\")\n",
    "    rating = float(rating_element[\"aria-label\"].split()[0]) if rating_element else None\n",
    "    \n",
    "    # Append the extracted data to the lists\n",
    "    attributes_list.append(attributes)\n",
    "    ratings_list.append(rating)\n",
    "\n",
    "# Create a pandas DataFrame to store the scraped data\n",
    "data = pd.DataFrame({\n",
    "    \"Attributes\": attributes_list,\n",
    "    \"Rating\": ratings_list\n",
    "})\n",
    "\n",
    "# Print the DataFrame\n",
    "print(data)\n"
   ]
  },
  {
   "cell_type": "code",
   "execution_count": 7,
   "id": "059bb719",
   "metadata": {},
   "outputs": [
    {
     "name": "stdout",
     "output_type": "stream",
     "text": [
      "Empty DataFrame\n",
      "Columns: [Attributes, Rating]\n",
      "Index: []\n"
     ]
    }
   ],
   "source": [
    "import time\n",
    "import pandas as pd\n",
    "from selenium import webdriver\n",
    "from selenium.webdriver.chrome.service import Service\n",
    "from selenium.webdriver.common.by import By\n",
    "from selenium.webdriver.chrome.options import Options\n",
    "from selenium.webdriver.common.action_chains import ActionChains\n",
    "from selenium.webdriver.common.keys import Keys\n",
    "\n",
    "# Set up Chrome WebDriver\n",
    "s = Service('path_to_chromedriver')\n",
    "options = Options()\n",
    "options.add_argument('--headless')  # Run Chrome WebDriver in headless mode\n",
    "driver = webdriver.Chrome(service=s, options=options)\n",
    "\n",
    "# Define the URL of the Yelp search results page\n",
    "url = \"https://fr.yelp.be/search?find_desc=&find_loc=Brussels%2C+R%C3%A9gion+de+Bruxelles-Capitale\"\n",
    "\n",
    "# Navigate to the Yelp search results page\n",
    "driver.get(url)\n",
    "\n",
    "# Wait for the page to load\n",
    "time.sleep(5)\n",
    "\n",
    "# Scroll down the page to load more restaurants (optional)\n",
    "scroll_element = driver.find_element(By.XPATH, \"//body\")\n",
    "for _ in range(3):  # Scroll down 3 times, adjust as needed\n",
    "    ActionChains(driver).move_to_element(scroll_element).send_keys(Keys.PAGE_DOWN).perform()\n",
    "    time.sleep(2)  # Pause to load more restaurants\n",
    "\n",
    "# Find all the restaurant cards on the page\n",
    "restaurant_cards = driver.find_elements(By.XPATH, \"//div[contains(@class, 'container__373c0__3HMKB')]\")\n",
    "\n",
    "# Initialize lists to store the extracted data\n",
    "attributes_list = []\n",
    "ratings_list = []\n",
    "\n",
    "# Iterate over each restaurant card\n",
    "for card in restaurant_cards:\n",
    "    # Extract the restaurant attributes\n",
    "    attributes = card.find_elements(By.XPATH, \".//div[contains(@class, 'border-color--default__373c0__3-ifU')]\")\n",
    "    attributes = [attr.text.strip() for attr in attributes]\n",
    "    \n",
    "    # Extract the restaurant rating\n",
    "    rating_element = card.find_element(By.XPATH, \".//div[contains(@class, 'i-stars__373c0__1T6rz')]\")\n",
    "    rating = float(rating_element.get_attribute(\"aria-label\").split()[0]) if rating_element else None\n",
    "    \n",
    "    # Append the extracted data to the lists\n",
    "    attributes_list.append(attributes)\n",
    "    ratings_list.append(rating)\n",
    "\n",
    "# Create a pandas DataFrame to store the scraped data\n",
    "data = pd.DataFrame({\n",
    "    \"Attributes\": attributes_list,\n",
    "    \"Rating\": ratings_list\n",
    "})\n",
    "\n",
    "# Print the DataFrame\n",
    "print(data)\n",
    "\n",
    "# Quit the WebDriver\n",
    "driver.quit()\n"
   ]
  },
  {
   "cell_type": "code",
   "execution_count": 9,
   "id": "15f9440c",
   "metadata": {},
   "outputs": [
    {
     "name": "stdout",
     "output_type": "stream",
     "text": [
      "Collecting yelpapi\n",
      "  Downloading yelpapi-2.5.0-py3-none-any.whl (7.4 kB)\n",
      "Requirement already satisfied: requests in c:\\users\\user\\documents\\hec\\2022-2023\\data management\\lib\\site-packages (from yelpapi) (2.28.1)\n",
      "Requirement already satisfied: idna<4,>=2.5 in c:\\users\\user\\documents\\hec\\2022-2023\\data management\\lib\\site-packages (from requests->yelpapi) (3.3)\n",
      "Requirement already satisfied: urllib3<1.27,>=1.21.1 in c:\\users\\user\\documents\\hec\\2022-2023\\data management\\lib\\site-packages (from requests->yelpapi) (1.26.11)\n",
      "Requirement already satisfied: charset-normalizer<3,>=2 in c:\\users\\user\\documents\\hec\\2022-2023\\data management\\lib\\site-packages (from requests->yelpapi) (2.0.4)\n",
      "Requirement already satisfied: certifi>=2017.4.17 in c:\\users\\user\\documents\\hec\\2022-2023\\data management\\lib\\site-packages (from requests->yelpapi) (2022.9.14)\n",
      "Installing collected packages: yelpapi\n",
      "Successfully installed yelpapi-2.5.0\n"
     ]
    },
    {
     "ename": "YelpAPIError",
     "evalue": "VALIDATION_ERROR: 'Bearer YOUR_API_KEY' does not match '^(?i)Bearer [A-Za-z0-9\\\\-\\\\_]{128}$'",
     "output_type": "error",
     "traceback": [
      "\u001b[1;31m---------------------------------------------------------------------------\u001b[0m",
      "\u001b[1;31mYelpAPIError\u001b[0m                              Traceback (most recent call last)",
      "\u001b[1;32m~\\AppData\\Local\\Temp\\ipykernel_11152\\2911746068.py\u001b[0m in \u001b[0;36m<module>\u001b[1;34m\u001b[0m\n\u001b[0;32m     12\u001b[0m \u001b[1;33m\u001b[0m\u001b[0m\n\u001b[0;32m     13\u001b[0m \u001b[1;31m# Make the API call to search for restaurants\u001b[0m\u001b[1;33m\u001b[0m\u001b[1;33m\u001b[0m\u001b[0m\n\u001b[1;32m---> 14\u001b[1;33m \u001b[0mresponse\u001b[0m \u001b[1;33m=\u001b[0m \u001b[0myelp_api\u001b[0m\u001b[1;33m.\u001b[0m\u001b[0msearch_query\u001b[0m\u001b[1;33m(\u001b[0m\u001b[0mlocation\u001b[0m\u001b[1;33m=\u001b[0m\u001b[0mlocation\u001b[0m\u001b[1;33m)\u001b[0m\u001b[1;33m\u001b[0m\u001b[1;33m\u001b[0m\u001b[0m\n\u001b[0m\u001b[0;32m     15\u001b[0m \u001b[1;33m\u001b[0m\u001b[0m\n\u001b[0;32m     16\u001b[0m \u001b[1;31m# Extract the relevant data from the response\u001b[0m\u001b[1;33m\u001b[0m\u001b[1;33m\u001b[0m\u001b[0m\n",
      "\u001b[1;32m~\\Documents\\HEC\\2022-2023\\Data management\\lib\\site-packages\\yelpapi\\yelpapi.py\u001b[0m in \u001b[0;36msearch_query\u001b[1;34m(self, **kwargs)\u001b[0m\n\u001b[0;32m    249\u001b[0m                              '(parameters \"latitude\" and \"longitude\") must be provided.')\n\u001b[0;32m    250\u001b[0m \u001b[1;33m\u001b[0m\u001b[0m\n\u001b[1;32m--> 251\u001b[1;33m         \u001b[1;32mreturn\u001b[0m \u001b[0mself\u001b[0m\u001b[1;33m.\u001b[0m\u001b[0m_query\u001b[0m\u001b[1;33m(\u001b[0m\u001b[0mSEARCH_API_URL\u001b[0m\u001b[1;33m,\u001b[0m \u001b[1;33m**\u001b[0m\u001b[0mkwargs\u001b[0m\u001b[1;33m)\u001b[0m\u001b[1;33m\u001b[0m\u001b[1;33m\u001b[0m\u001b[0m\n\u001b[0m\u001b[0;32m    252\u001b[0m \u001b[1;33m\u001b[0m\u001b[0m\n\u001b[0;32m    253\u001b[0m     \u001b[1;32mdef\u001b[0m \u001b[0mtransaction_search_query\u001b[0m\u001b[1;33m(\u001b[0m\u001b[0mself\u001b[0m\u001b[1;33m,\u001b[0m \u001b[0mtransaction_type\u001b[0m\u001b[1;33m,\u001b[0m \u001b[1;33m**\u001b[0m\u001b[0mkwargs\u001b[0m\u001b[1;33m)\u001b[0m\u001b[1;33m:\u001b[0m\u001b[1;33m\u001b[0m\u001b[1;33m\u001b[0m\u001b[0m\n",
      "\u001b[1;32m~\\Documents\\HEC\\2022-2023\\Data management\\lib\\site-packages\\yelpapi\\yelpapi.py\u001b[0m in \u001b[0;36m_query\u001b[1;34m(self, url, **kwargs)\u001b[0m\n\u001b[0;32m    297\u001b[0m         \u001b[1;31m# https://github.com/Yelp/yelp-fusion/issues/95 for more info.\u001b[0m\u001b[1;33m\u001b[0m\u001b[1;33m\u001b[0m\u001b[0m\n\u001b[0;32m    298\u001b[0m         \u001b[1;32mif\u001b[0m \u001b[1;34m'error'\u001b[0m \u001b[1;32min\u001b[0m \u001b[0mresponse_json\u001b[0m\u001b[1;33m:\u001b[0m\u001b[1;33m\u001b[0m\u001b[1;33m\u001b[0m\u001b[0m\n\u001b[1;32m--> 299\u001b[1;33m             raise YelpAPI.YelpAPIError('{}: {}'.format(response_json['error']['code'],\n\u001b[0m\u001b[0;32m    300\u001b[0m                                                        response_json['error']['description']))\n\u001b[0;32m    301\u001b[0m \u001b[1;33m\u001b[0m\u001b[0m\n",
      "\u001b[1;31mYelpAPIError\u001b[0m: VALIDATION_ERROR: 'Bearer YOUR_API_KEY' does not match '^(?i)Bearer [A-Za-z0-9\\\\-\\\\_]{128}$'"
     ]
    }
   ],
   "source": [
    "!pip install yelpapi\n",
    "\n",
    "from yelpapi import YelpAPI\n",
    "import pandas as pd\n",
    "\n",
    "# Initialize Yelp API client with your API key\n",
    "api_key = \"YOUR_API_KEY\"\n",
    "yelp_api = YelpAPI(api_key)\n",
    "\n",
    "# Set the search parameters\n",
    "location = \"Brussels, Belgium\"\n",
    "\n",
    "# Make the API call to search for restaurants\n",
    "response = yelp_api.search_query(location=location)\n",
    "\n",
    "# Extract the relevant data from the response\n",
    "restaurants = response[\"businesses\"]\n",
    "data = []\n",
    "for restaurant in restaurants:\n",
    "    attributes = restaurant[\"attributes\"]\n",
    "    rating = restaurant[\"rating\"]\n",
    "    data.append({\n",
    "        \"Attributes\": attributes,\n",
    "        \"Rating\": rating\n",
    "    })\n",
    "\n",
    "# Create a pandas DataFrame to store the scraped data\n",
    "data_df = pd.DataFrame(data)\n",
    "\n",
    "# Print the DataFrame\n",
    "print(data_df)\n"
   ]
  },
  {
   "cell_type": "code",
   "execution_count": 6,
   "id": "cea92664",
   "metadata": {},
   "outputs": [
    {
     "ename": "AttributeError",
     "evalue": "'Series' object has no attribute 'stack'",
     "output_type": "error",
     "traceback": [
      "\u001b[1;31m---------------------------------------------------------------------------\u001b[0m",
      "\u001b[1;31mAttributeError\u001b[0m                            Traceback (most recent call last)",
      "\u001b[1;32m~\\AppData\\Local\\Temp\\ipykernel_11152\\3439106430.py\u001b[0m in \u001b[0;36m<module>\u001b[1;34m\u001b[0m\n\u001b[0;32m      8\u001b[0m \u001b[1;33m\u001b[0m\u001b[0m\n\u001b[0;32m      9\u001b[0m \u001b[1;31m# Convert the attributes into a binary matrix using one-hot encoding\u001b[0m\u001b[1;33m\u001b[0m\u001b[1;33m\u001b[0m\u001b[0m\n\u001b[1;32m---> 10\u001b[1;33m \u001b[0mX_encoded\u001b[0m \u001b[1;33m=\u001b[0m \u001b[0mpd\u001b[0m\u001b[1;33m.\u001b[0m\u001b[0mget_dummies\u001b[0m\u001b[1;33m(\u001b[0m\u001b[0mX\u001b[0m\u001b[1;33m.\u001b[0m\u001b[0mapply\u001b[0m\u001b[1;33m(\u001b[0m\u001b[0mpd\u001b[0m\u001b[1;33m.\u001b[0m\u001b[0mSeries\u001b[0m\u001b[1;33m)\u001b[0m\u001b[1;33m.\u001b[0m\u001b[0mstack\u001b[0m\u001b[1;33m(\u001b[0m\u001b[1;33m)\u001b[0m\u001b[1;33m)\u001b[0m\u001b[1;33m.\u001b[0m\u001b[0msum\u001b[0m\u001b[1;33m(\u001b[0m\u001b[0mlevel\u001b[0m\u001b[1;33m=\u001b[0m\u001b[1;36m0\u001b[0m\u001b[1;33m)\u001b[0m\u001b[1;33m\u001b[0m\u001b[1;33m\u001b[0m\u001b[0m\n\u001b[0m\u001b[0;32m     11\u001b[0m \u001b[1;33m\u001b[0m\u001b[0m\n\u001b[0;32m     12\u001b[0m \u001b[1;31m# Split the data into training and testing sets\u001b[0m\u001b[1;33m\u001b[0m\u001b[1;33m\u001b[0m\u001b[0m\n",
      "\u001b[1;32m~\\Documents\\HEC\\2022-2023\\Data management\\lib\\site-packages\\pandas\\core\\generic.py\u001b[0m in \u001b[0;36m__getattr__\u001b[1;34m(self, name)\u001b[0m\n\u001b[0;32m   5573\u001b[0m         ):\n\u001b[0;32m   5574\u001b[0m             \u001b[1;32mreturn\u001b[0m \u001b[0mself\u001b[0m\u001b[1;33m[\u001b[0m\u001b[0mname\u001b[0m\u001b[1;33m]\u001b[0m\u001b[1;33m\u001b[0m\u001b[1;33m\u001b[0m\u001b[0m\n\u001b[1;32m-> 5575\u001b[1;33m         \u001b[1;32mreturn\u001b[0m \u001b[0mobject\u001b[0m\u001b[1;33m.\u001b[0m\u001b[0m__getattribute__\u001b[0m\u001b[1;33m(\u001b[0m\u001b[0mself\u001b[0m\u001b[1;33m,\u001b[0m \u001b[0mname\u001b[0m\u001b[1;33m)\u001b[0m\u001b[1;33m\u001b[0m\u001b[1;33m\u001b[0m\u001b[0m\n\u001b[0m\u001b[0;32m   5576\u001b[0m \u001b[1;33m\u001b[0m\u001b[0m\n\u001b[0;32m   5577\u001b[0m     \u001b[1;32mdef\u001b[0m \u001b[0m__setattr__\u001b[0m\u001b[1;33m(\u001b[0m\u001b[0mself\u001b[0m\u001b[1;33m,\u001b[0m \u001b[0mname\u001b[0m\u001b[1;33m:\u001b[0m \u001b[0mstr\u001b[0m\u001b[1;33m,\u001b[0m \u001b[0mvalue\u001b[0m\u001b[1;33m)\u001b[0m \u001b[1;33m->\u001b[0m \u001b[1;32mNone\u001b[0m\u001b[1;33m:\u001b[0m\u001b[1;33m\u001b[0m\u001b[1;33m\u001b[0m\u001b[0m\n",
      "\u001b[1;31mAttributeError\u001b[0m: 'Series' object has no attribute 'stack'"
     ]
    }
   ],
   "source": [
    "from sklearn.linear_model import LogisticRegression\n",
    "from sklearn.model_selection import train_test_split\n",
    "from sklearn.metrics import classification_report\n",
    "\n",
    "# Split the data into features (attributes) and target (rating)\n",
    "X = data[\"Attributes\"]\n",
    "y = data[\"Rating\"]\n",
    "\n",
    "# Convert the attributes into a binary matrix using one-hot encoding\n",
    "X_encoded = pd.get_dummies(X.apply(pd.Series).stack()).sum(level=0)\n",
    "\n",
    "# Split the data into training and testing sets\n",
    "X_train, X_test, y_train, y_test = train_test_split(X_encoded, y, test_size=0.2, random_state=42)\n",
    "\n",
    "# Create and train the logistic regression model\n",
    "model = LogisticRegression(multi_class=\"multinomial\", solver=\"lbfgs\")\n",
    "model.fit(X_train, y_train)\n",
    "\n",
    "# Make predictions on the test set\n",
    "y_pred = model.predict(X_test)\n",
    "\n",
    "# Evaluate the model\n",
    "print(classification_report(y_test, y_pred))\n"
   ]
  },
  {
   "cell_type": "code",
   "execution_count": null,
   "id": "94e3a372",
   "metadata": {},
   "outputs": [],
   "source": []
  }
 ],
 "metadata": {
  "kernelspec": {
   "display_name": "Python 3 (ipykernel)",
   "language": "python",
   "name": "python3"
  },
  "language_info": {
   "codemirror_mode": {
    "name": "ipython",
    "version": 3
   },
   "file_extension": ".py",
   "mimetype": "text/x-python",
   "name": "python",
   "nbconvert_exporter": "python",
   "pygments_lexer": "ipython3",
   "version": "3.9.13"
  }
 },
 "nbformat": 4,
 "nbformat_minor": 5
}
