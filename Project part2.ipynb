{
 "cells": [
  {
   "cell_type": "code",
   "execution_count": 31,
   "id": "bb481c2b",
   "metadata": {},
   "outputs": [],
   "source": [
    "from IPython.display import display\n",
    "import json\n",
    "import pandas as pd\n",
    "pd.options.display.max_columns = None # Display all columns of a dataframe\n",
    "pd.options.display.max_rows = 700\n",
    "from pprint import pprint\n",
    "import re\n",
    "import requests\n",
    "from bs4 import BeautifulSoup"
   ]
  },
  {
   "cell_type": "code",
   "execution_count": 32,
   "id": "5bdcf9dc",
   "metadata": {},
   "outputs": [
    {
     "name": "stdout",
     "output_type": "stream",
     "text": [
      "          Restaurant Name Rating\n",
      "0  L'Atelier d'Alessandro    N/A\n"
     ]
    }
   ],
   "source": [
    "import requests \n",
    "url=\"https://www.trouvetonresto.be/l-atelier-d-alessandro-restaurant-bruxelles/11241\"\n",
    "response = requests.get(url)\n",
    "response\n",
    "\n",
    "\n",
    "# Check if the request was successful (status code 200 indicates success)\n",
    "if response.status_code == 200:\n",
    "    # Extract the HTML content from the response\n",
    "    html = response.text\n",
    "\n",
    "    # Create a BeautifulSoup object to parse the HTML\n",
    "    soup = BeautifulSoup(html, 'html.parser')\n",
    "\n",
    "    # Continue with your scraping code\n",
    "    # Use the soup object to navigate and extract the desired data\n",
    "    # For example, you can find elements by tag name, class, ID, etc.\n",
    "    # soup.find('tag_name', class_='class_name') or soup.select('CSS_selector')\n",
    "\n",
    "    # Example: Extracting restaurant names and ratings\n",
    "    restaurant_names = []\n",
    "    ratings = []\n",
    "\n",
    "    # Find all elements with the class 'lemon--div__373c0__1mboc' (example only, adapt to your needs)\n",
    "    elements = soup.find_all('div', class_='fiche-header-infobox')\n",
    "\n",
    "    for element in elements:\n",
    "        # Extract restaurant name and rating from each element\n",
    "        name = element.find('div', class_='fiche-header-name').text.strip()\n",
    "        rating_element = element.find('div', class_='input-rating-header')\n",
    "        rating = rating_element['value'] if rating_element else 'N/A'\n",
    "        \n",
    "        restaurant_names.append(name)\n",
    "        ratings.append(rating)\n",
    "\n",
    "    # Create a DataFrame from the extracted data\n",
    "    data = {\n",
    "        'Restaurant Name': restaurant_names,\n",
    "        'Rating': ratings\n",
    "    }\n",
    "\n",
    "    df = pd.DataFrame(data)\n",
    "    print(df)\n",
    "\n",
    "else:\n",
    "    print(\"Failed to retrieve the webpage\")"
   ]
  },
  {
   "cell_type": "code",
   "execution_count": 35,
   "id": "d24fa7df",
   "metadata": {},
   "outputs": [
    {
     "name": "stdout",
     "output_type": "stream",
     "text": [
      "Empty DataFrame\n",
      "Columns: [Origine, Type de cuisine]\n",
      "Index: []\n"
     ]
    }
   ],
   "source": [
    "import requests \n",
    "url=\"https://www.trouvetonresto.be/l-atelier-d-alessandro-restaurant-bruxelles/11241\"\n",
    "response = requests.get(url)\n",
    "response\n",
    "\n",
    "\n",
    "# Check if the request was successful (status code 200 indicates success)\n",
    "if response.status_code == 200:\n",
    "    # Extract the HTML content from the response\n",
    "    html = response.text\n",
    "\n",
    "    # Create a BeautifulSoup object to parse the HTML\n",
    "    soup = BeautifulSoup(html, 'html.parser')\n",
    "\n",
    "    # Continue with your scraping code\n",
    "    # Use the soup object to navigate and extract the desired data\n",
    "    # For example, you can find elements by tag name, class, ID, etc.\n",
    "    # soup.find('tag_name', class_='class_name') or soup.select('CSS_selector')\n",
    "\n",
    "    # Example: Extracting restaurant names and ratings\n",
    "    origine = []\n",
    "    cuisine = []\n",
    "\n",
    "    # Find all elements with the class 'lemon--div__373c0__1mboc' (example only, adapt to your needs)\n",
    "    elements = soup.find_all('div', class_='fiche-more-infos.fiche-services')\n",
    "\n",
    "    for element in elements:\n",
    "        # Extract restaurant name and rating from each element\n",
    "        orig= element.find('div', class_='moreinfo-value').text.strip()\n",
    "        cuis= element.find('div', class_='moreInfo-value').text.strip()\n",
    "        \n",
    "        origine.append(orig)\n",
    "        cuisine.append(cuis)\n",
    "\n",
    "    # Create a DataFrame from the extracted data\n",
    "    data = {\n",
    "        'Origine': origine,\n",
    "        'Type de cuisine': cuisine\n",
    "    }\n",
    "\n",
    "    df = pd.DataFrame(data)\n",
    "    print(df)\n",
    "\n",
    "else:\n",
    "    print(\"Failed to retrieve the webpage\")"
   ]
  },
  {
   "cell_type": "code",
   "execution_count": null,
   "id": "877c3f3d",
   "metadata": {},
   "outputs": [],
   "source": []
  },
  {
   "cell_type": "code",
   "execution_count": null,
   "id": "a85a673e",
   "metadata": {},
   "outputs": [],
   "source": []
  }
 ],
 "metadata": {
  "kernelspec": {
   "display_name": "Python 3 (ipykernel)",
   "language": "python",
   "name": "python3"
  },
  "language_info": {
   "codemirror_mode": {
    "name": "ipython",
    "version": 3
   },
   "file_extension": ".py",
   "mimetype": "text/x-python",
   "name": "python",
   "nbconvert_exporter": "python",
   "pygments_lexer": "ipython3",
   "version": "3.9.13"
  }
 },
 "nbformat": 4,
 "nbformat_minor": 5
}
